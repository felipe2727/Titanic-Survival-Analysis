{
 "cells": [
  {
   "cell_type": "code",
   "execution_count": 1,
   "id": "7a22b9ca",
   "metadata": {},
   "outputs": [
    {
     "name": "stderr",
     "output_type": "stream",
     "text": [
      "WARNING: An illegal reflective access operation has occurred\n",
      "WARNING: Illegal reflective access by org.apache.spark.unsafe.Platform (file:/opt/spark3/jars/spark-unsafe_2.12-3.2.1.jar) to constructor java.nio.DirectByteBuffer(long,int)\n",
      "WARNING: Please consider reporting this to the maintainers of org.apache.spark.unsafe.Platform\n",
      "WARNING: Use --illegal-access=warn to enable warnings of further illegal reflective access operations\n",
      "WARNING: All illegal access operations will be denied in a future release\n",
      "Setting default log level to \"WARN\".\n",
      "To adjust logging level use sc.setLogLevel(newLevel). For SparkR, use setLogLevel(newLevel).\n"
     ]
    },
    {
     "name": "stdout",
     "output_type": "stream",
     "text": [
      "This cluster relies on Spark '3.2.1'\n"
     ]
    }
   ],
   "source": [
    "import findspark\n",
    "findspark.init()\n",
    "from pyspark.sql.session import SparkSession\n",
    "\n",
    "spark = SparkSession.builder\\\n",
    "                    .appName(\"Titanic Analysis\")\\\n",
    "                    .getOrCreate()\n",
    "\n",
    "print(f\"This cluster relies on Spark '{spark.version}'\")"
   ]
  },
  {
   "cell_type": "markdown",
   "id": "ce7ebe4f",
   "metadata": {},
   "source": [
    "http://blog.madhukaraphatak.com/analysing-kaggle-titanic-data/"
   ]
  },
  {
   "cell_type": "code",
   "execution_count": 2,
   "id": "d9916bd6",
   "metadata": {},
   "outputs": [],
   "source": [
    "import pandas as pd\n",
    "pd.set_option('display.max_rows', 1500)"
   ]
  },
  {
   "cell_type": "code",
   "execution_count": 3,
   "id": "01c30a0f",
   "metadata": {},
   "outputs": [
    {
     "name": "stderr",
     "output_type": "stream",
     "text": [
      "                                                                                \r"
     ]
    },
    {
     "name": "stdout",
     "output_type": "stream",
     "text": [
      "root\n",
      " |-- pclass: integer (nullable = true)\n",
      " |-- survived: integer (nullable = true)\n",
      " |-- name: string (nullable = true)\n",
      " |-- sex: integer (nullable = true)\n",
      " |-- age: double (nullable = true)\n",
      " |-- sibsp: integer (nullable = true)\n",
      " |-- parch: integer (nullable = true)\n",
      " |-- ticket: string (nullable = true)\n",
      " |-- fare: double (nullable = true)\n",
      " |-- cabin: string (nullable = true)\n",
      " |-- embarked: string (nullable = true)\n",
      " |-- boat: string (nullable = true)\n",
      " |-- filename_path: string (nullable = false)\n",
      "\n"
     ]
    }
   ],
   "source": [
    "\n",
    "from  pyspark.sql.functions import input_file_name\n",
    "\n",
    "# DataFrame creation    \n",
    "data = spark.read.option('delimiter',';').csv(\"hdfs://localhost:9000//datalake/raw/./*/\", inferSchema = True, header = True)\n",
    "                    \n",
    "                  \n",
    "# DataFrame updated with an additional column containing the filename contributing to the data in every row.\n",
    "data = data.withColumn(\"filename_path\", input_file_name())\n",
    "\n",
    "data.printSchema()"
   ]
  },
  {
   "cell_type": "code",
   "execution_count": null,
   "id": "a0ad7540",
   "metadata": {},
   "outputs": [],
   "source": []
  },
  {
   "cell_type": "code",
   "execution_count": 4,
   "id": "bc268a4e",
   "metadata": {},
   "outputs": [
    {
     "name": "stdout",
     "output_type": "stream",
     "text": [
      "root\n",
      " |-- name: string (nullable = true)\n",
      " |-- sex: integer (nullable = true)\n",
      " |-- age: double (nullable = true)\n",
      " |-- cabin: string (nullable = true)\n",
      " |-- fare: double (nullable = true)\n",
      " |-- ticket: string (nullable = true)\n",
      " |-- pclass: integer (nullable = true)\n",
      " |-- fare: double (nullable = true)\n",
      " |-- embarked: string (nullable = true)\n",
      " |-- survived: integer (nullable = true)\n",
      "\n"
     ]
    }
   ],
   "source": [
    "data1= data.select(\"name\", \"sex\", \"age\",\"cabin\",\"fare\",\"ticket\",\"pclass\",\"fare\",\"embarked\", 'survived')\n",
    "data1.printSchema()"
   ]
  },
  {
   "cell_type": "markdown",
   "id": "3a072c51",
   "metadata": {},
   "source": [
    "### Data Types"
   ]
  },
  {
   "cell_type": "code",
   "execution_count": 17,
   "id": "49416567",
   "metadata": {},
   "outputs": [],
   "source": [
    "from  pyspark.sql.functions import explode, min, max, avg, count, col, sum\n",
    "\n"
   ]
  },
  {
   "cell_type": "code",
   "execution_count": 18,
   "id": "aebe64f1",
   "metadata": {},
   "outputs": [
    {
     "name": "stdout",
     "output_type": "stream",
     "text": [
      "root\n",
      " |-- name: string (nullable = true)\n",
      " |-- sex: integer (nullable = true)\n",
      " |-- age: double (nullable = true)\n",
      " |-- cabin: string (nullable = true)\n",
      " |-- fare: double (nullable = true)\n",
      " |-- ticket: string (nullable = true)\n",
      " |-- pclass: integer (nullable = true)\n",
      " |-- fare: double (nullable = true)\n",
      " |-- embarked: string (nullable = true)\n",
      " |-- survived: integer (nullable = true)\n",
      "\n"
     ]
    }
   ],
   "source": [
    "data1.printSchema()"
   ]
  },
  {
   "cell_type": "code",
   "execution_count": 19,
   "id": "8b6b86b6",
   "metadata": {},
   "outputs": [
    {
     "name": "stdout",
     "output_type": "stream",
     "text": [
      "+--------------------+---+----+-------+------+------+------+------+--------+--------+\n",
      "|                name|sex| age|  cabin|  fare|ticket|pclass|  fare|embarked|survived|\n",
      "+--------------------+---+----+-------+------+------+------+------+--------+--------+\n",
      "| Allen, Miss. Eli...|  0|29.0|     B5|211.34| 24160|     1|211.34|       S|       1|\n",
      "|Allison, Master. ...|  1|0.92|C22 C26|151.55|113781|     1|151.55|       S|       1|\n",
      "|Allison, Miss. He...|  0| 2.0|C22 C26|151.55|113781|     1|151.55|       S|       0|\n",
      "|Allison, Mr. Huds...|  1|30.0|C22 C26|151.55|113781|     1|151.55|       S|       0|\n",
      "|Allison, Mrs. Hud...|  0|25.0|C22 C26|151.55|113781|     1|151.55|       S|       0|\n",
      "| Anderson, Mr. Harry|  1|48.0|    E12| 26.55| 19952|     1| 26.55|       S|       1|\n",
      "|Andrews, Miss. Ko...|  0|63.0|     D7| 77.96| 13502|     1| 77.96|       S|       1|\n",
      "|Andrews, Mr. Thom...|  1|39.0|    A36|   0.0|112050|     1|   0.0|       S|       0|\n",
      "|Appleton, Mrs. Ed...|  0|53.0|   C101| 51.48| 11769|     1| 51.48|       S|       1|\n",
      "|Artagaveytia, Mr....|  1|71.0|      0|  49.5| 17609|     1|  49.5|       C|       0|\n",
      "|Astor, Col. John ...|  1|47.0|C62 C64|227.53| 17757|     1|227.53|       C|       0|\n",
      "|Astor, Mrs. John ...|  0|18.0|C62 C64|227.53| 17757|     1|227.53|       C|       1|\n",
      "|Aubart, Mme. Leon...|  0|24.0|    B35|  69.3| 17477|     1|  69.3|       C|       1|\n",
      "|\"Barber, Miss. El...|  0|26.0|      0| 78.85| 19877|     1| 78.85|       S|       1|\n",
      "|Barkworth, Mr. Al...|  1|80.0|    A23|  30.0| 27042|     1|  30.0|       S|       1|\n",
      "|Baxter, Mr. Quigg...|  1|24.0|B58 B60|247.52| 17558|     1|247.52|       C|       0|\n",
      "|Baxter, Mrs. Jame...|  0|50.0|B58 B60|247.52| 17558|     1|247.52|       C|       1|\n",
      "|Bazzani, Miss. Al...|  0|32.0|    D15| 76.29| 11813|     1| 76.29|       C|       1|\n",
      "|Beattie, Mr. Thomson|  1|36.0|     C6| 75.24| 13050|     1| 75.24|       C|       0|\n",
      "|Beckwith, Mr. Ric...|  1|37.0|    D35| 52.55| 11751|     1| 52.55|       S|       1|\n",
      "+--------------------+---+----+-------+------+------+------+------+--------+--------+\n",
      "only showing top 20 rows\n",
      "\n"
     ]
    }
   ],
   "source": [
    "data1.show()"
   ]
  },
  {
   "cell_type": "markdown",
   "id": "9841fe86",
   "metadata": {},
   "source": [
    "### Import SQL functions"
   ]
  },
  {
   "cell_type": "markdown",
   "id": "bd5ff3b4",
   "metadata": {},
   "source": [
    "### Questions"
   ]
  },
  {
   "cell_type": "markdown",
   "id": "bdeb90ea",
   "metadata": {},
   "source": [
    "#### How to join a two dataframes using JOIN"
   ]
  },
  {
   "cell_type": "code",
   "execution_count": 20,
   "id": "088fe3a1",
   "metadata": {
    "scrolled": true
   },
   "outputs": [
    {
     "name": "stdout",
     "output_type": "stream",
     "text": [
      "+--------------------+---+\n",
      "|                name|sex|\n",
      "+--------------------+---+\n",
      "| Allen, Miss. Eli...|  0|\n",
      "|Allison, Master. ...|  1|\n",
      "|Allison, Miss. He...|  0|\n",
      "|Allison, Mr. Huds...|  1|\n",
      "|Allison, Mrs. Hud...|  0|\n",
      "| Anderson, Mr. Harry|  1|\n",
      "|Andrews, Miss. Ko...|  0|\n",
      "|Andrews, Mr. Thom...|  1|\n",
      "|Appleton, Mrs. Ed...|  0|\n",
      "|Artagaveytia, Mr....|  1|\n",
      "|Astor, Col. John ...|  1|\n",
      "|Astor, Mrs. John ...|  0|\n",
      "|Aubart, Mme. Leon...|  0|\n",
      "|\"Barber, Miss. El...|  0|\n",
      "|Barkworth, Mr. Al...|  1|\n",
      "|Baxter, Mr. Quigg...|  1|\n",
      "|Baxter, Mrs. Jame...|  0|\n",
      "|Bazzani, Miss. Al...|  0|\n",
      "|Beattie, Mr. Thomson|  1|\n",
      "|Beckwith, Mr. Ric...|  1|\n",
      "+--------------------+---+\n",
      "only showing top 20 rows\n",
      "\n"
     ]
    }
   ],
   "source": [
    "genderdf= data1.select('name','sex')\n",
    "agedf   = data1.select('name','age')\n",
    "\n",
    "genderdf.join(agedf, genderdf.name ==  agedf.name,\"leftsemi\").show()"
   ]
  },
  {
   "cell_type": "code",
   "execution_count": 56,
   "id": "5fd6e1ba",
   "metadata": {},
   "outputs": [],
   "source": [
    "length = data1.count()"
   ]
  },
  {
   "cell_type": "markdown",
   "id": "dc5ca7c2",
   "metadata": {},
   "source": [
    "#### What is the average fare  by class and sex?"
   ]
  },
  {
   "cell_type": "code",
   "execution_count": 21,
   "id": "32b16b78",
   "metadata": {},
   "outputs": [
    {
     "data": {
      "text/html": [
       "<div>\n",
       "<style scoped>\n",
       "    .dataframe tbody tr th:only-of-type {\n",
       "        vertical-align: middle;\n",
       "    }\n",
       "\n",
       "    .dataframe tbody tr th {\n",
       "        vertical-align: top;\n",
       "    }\n",
       "\n",
       "    .dataframe thead th {\n",
       "        text-align: right;\n",
       "    }\n",
       "</style>\n",
       "<table border=\"1\" class=\"dataframe\">\n",
       "  <thead>\n",
       "    <tr style=\"text-align: right;\">\n",
       "      <th></th>\n",
       "      <th>sex</th>\n",
       "      <th>pclass</th>\n",
       "      <th>avg(fare)</th>\n",
       "    </tr>\n",
       "  </thead>\n",
       "  <tbody>\n",
       "    <tr>\n",
       "      <th>0</th>\n",
       "      <td>0</td>\n",
       "      <td>1</td>\n",
       "      <td>112.486031</td>\n",
       "    </tr>\n",
       "    <tr>\n",
       "      <th>1</th>\n",
       "      <td>0</td>\n",
       "      <td>2</td>\n",
       "      <td>23.267379</td>\n",
       "    </tr>\n",
       "    <tr>\n",
       "      <th>2</th>\n",
       "      <td>0</td>\n",
       "      <td>3</td>\n",
       "      <td>14.656908</td>\n",
       "    </tr>\n",
       "    <tr>\n",
       "      <th>3</th>\n",
       "      <td>1</td>\n",
       "      <td>1</td>\n",
       "      <td>74.818477</td>\n",
       "    </tr>\n",
       "    <tr>\n",
       "      <th>4</th>\n",
       "      <td>1</td>\n",
       "      <td>2</td>\n",
       "      <td>20.934430</td>\n",
       "    </tr>\n",
       "    <tr>\n",
       "      <th>5</th>\n",
       "      <td>1</td>\n",
       "      <td>3</td>\n",
       "      <td>12.139683</td>\n",
       "    </tr>\n",
       "  </tbody>\n",
       "</table>\n",
       "</div>"
      ],
      "text/plain": [
       "   sex  pclass   avg(fare)\n",
       "0    0       1  112.486031\n",
       "1    0       2   23.267379\n",
       "2    0       3   14.656908\n",
       "3    1       1   74.818477\n",
       "4    1       2   20.934430\n",
       "5    1       3   12.139683"
      ]
     },
     "execution_count": 21,
     "metadata": {},
     "output_type": "execute_result"
    }
   ],
   "source": [
    "data1.select('pclass', 'sex', 'fare')\\\n",
    ".groupBy('sex','pclass')\\\n",
    ".avg('fare')\\\n",
    ".orderBy('sex','pclass')\\\n",
    ".toPandas()"
   ]
  },
  {
   "cell_type": "code",
   "execution_count": null,
   "id": "9dce5184",
   "metadata": {},
   "outputs": [],
   "source": []
  },
  {
   "cell_type": "markdown",
   "id": "470ee5f5",
   "metadata": {},
   "source": [
    "##### First class tickets \n",
    "\n",
    "#####  Women = 0, Men = 1"
   ]
  },
  {
   "cell_type": "markdown",
   "id": "ac235022",
   "metadata": {},
   "source": [
    "#### Male and female breakdown"
   ]
  },
  {
   "cell_type": "code",
   "execution_count": 57,
   "id": "234efbb1",
   "metadata": {},
   "outputs": [
    {
     "data": {
      "text/html": [
       "<div>\n",
       "<style scoped>\n",
       "    .dataframe tbody tr th:only-of-type {\n",
       "        vertical-align: middle;\n",
       "    }\n",
       "\n",
       "    .dataframe tbody tr th {\n",
       "        vertical-align: top;\n",
       "    }\n",
       "\n",
       "    .dataframe thead th {\n",
       "        text-align: right;\n",
       "    }\n",
       "</style>\n",
       "<table border=\"1\" class=\"dataframe\">\n",
       "  <thead>\n",
       "    <tr style=\"text-align: right;\">\n",
       "      <th></th>\n",
       "      <th>sex</th>\n",
       "      <th>count</th>\n",
       "      <th>ratio</th>\n",
       "    </tr>\n",
       "  </thead>\n",
       "  <tbody>\n",
       "    <tr>\n",
       "      <th>0</th>\n",
       "      <td>1</td>\n",
       "      <td>656</td>\n",
       "      <td>0.629559</td>\n",
       "    </tr>\n",
       "    <tr>\n",
       "      <th>1</th>\n",
       "      <td>0</td>\n",
       "      <td>386</td>\n",
       "      <td>0.370441</td>\n",
       "    </tr>\n",
       "  </tbody>\n",
       "</table>\n",
       "</div>"
      ],
      "text/plain": [
       "   sex  count     ratio\n",
       "0    1    656  0.629559\n",
       "1    0    386  0.370441"
      ]
     },
     "execution_count": 57,
     "metadata": {},
     "output_type": "execute_result"
    }
   ],
   "source": [
    "data1.groupBy('sex').count().withColumn('ratio', col('count')/length).toPandas()\n"
   ]
  },
  {
   "cell_type": "markdown",
   "id": "0d2b177e",
   "metadata": {},
   "source": [
    "#### Male and female breakdown from those who survived"
   ]
  },
  {
   "cell_type": "code",
   "execution_count": 70,
   "id": "a24c07fd",
   "metadata": {},
   "outputs": [
    {
     "data": {
      "text/html": [
       "<div>\n",
       "<style scoped>\n",
       "    .dataframe tbody tr th:only-of-type {\n",
       "        vertical-align: middle;\n",
       "    }\n",
       "\n",
       "    .dataframe tbody tr th {\n",
       "        vertical-align: top;\n",
       "    }\n",
       "\n",
       "    .dataframe thead th {\n",
       "        text-align: right;\n",
       "    }\n",
       "</style>\n",
       "<table border=\"1\" class=\"dataframe\">\n",
       "  <thead>\n",
       "    <tr style=\"text-align: right;\">\n",
       "      <th></th>\n",
       "      <th>sex</th>\n",
       "      <th>survived</th>\n",
       "      <th>count</th>\n",
       "    </tr>\n",
       "  </thead>\n",
       "  <tbody>\n",
       "    <tr>\n",
       "      <th>0</th>\n",
       "      <td>1</td>\n",
       "      <td>0</td>\n",
       "      <td>522</td>\n",
       "    </tr>\n",
       "    <tr>\n",
       "      <th>1</th>\n",
       "      <td>1</td>\n",
       "      <td>1</td>\n",
       "      <td>134</td>\n",
       "    </tr>\n",
       "    <tr>\n",
       "      <th>2</th>\n",
       "      <td>0</td>\n",
       "      <td>0</td>\n",
       "      <td>96</td>\n",
       "    </tr>\n",
       "    <tr>\n",
       "      <th>3</th>\n",
       "      <td>0</td>\n",
       "      <td>1</td>\n",
       "      <td>290</td>\n",
       "    </tr>\n",
       "  </tbody>\n",
       "</table>\n",
       "</div>"
      ],
      "text/plain": [
       "   sex  survived  count\n",
       "0    1         0    522\n",
       "1    1         1    134\n",
       "2    0         0     96\n",
       "3    0         1    290"
      ]
     },
     "execution_count": 70,
     "metadata": {},
     "output_type": "execute_result"
    }
   ],
   "source": [
    "data1.select('sex','survived').groupBy(\"sex\", 'survived').count().toPandas()\n"
   ]
  },
  {
   "cell_type": "markdown",
   "id": "61ad86ae",
   "metadata": {},
   "source": [
    "#### How many passengers bought tickets for each class?"
   ]
  },
  {
   "cell_type": "code",
   "execution_count": 64,
   "id": "04ef3ce2",
   "metadata": {},
   "outputs": [
    {
     "data": {
      "text/html": [
       "<div>\n",
       "<style scoped>\n",
       "    .dataframe tbody tr th:only-of-type {\n",
       "        vertical-align: middle;\n",
       "    }\n",
       "\n",
       "    .dataframe tbody tr th {\n",
       "        vertical-align: top;\n",
       "    }\n",
       "\n",
       "    .dataframe thead th {\n",
       "        text-align: right;\n",
       "    }\n",
       "</style>\n",
       "<table border=\"1\" class=\"dataframe\">\n",
       "  <thead>\n",
       "    <tr style=\"text-align: right;\">\n",
       "      <th></th>\n",
       "      <th>pclass</th>\n",
       "      <th>count</th>\n",
       "      <th>ratio</th>\n",
       "    </tr>\n",
       "  </thead>\n",
       "  <tbody>\n",
       "    <tr>\n",
       "      <th>0</th>\n",
       "      <td>1</td>\n",
       "      <td>282</td>\n",
       "      <td>0.270633</td>\n",
       "    </tr>\n",
       "    <tr>\n",
       "      <th>1</th>\n",
       "      <td>2</td>\n",
       "      <td>261</td>\n",
       "      <td>0.250480</td>\n",
       "    </tr>\n",
       "    <tr>\n",
       "      <th>2</th>\n",
       "      <td>3</td>\n",
       "      <td>499</td>\n",
       "      <td>0.478887</td>\n",
       "    </tr>\n",
       "  </tbody>\n",
       "</table>\n",
       "</div>"
      ],
      "text/plain": [
       "   pclass  count     ratio\n",
       "0       1    282  0.270633\n",
       "1       2    261  0.250480\n",
       "2       3    499  0.478887"
      ]
     },
     "execution_count": 64,
     "metadata": {},
     "output_type": "execute_result"
    }
   ],
   "source": [
    "data1.groupBy('pclass').count().withColumn('ratio', col('count')/length).orderBy('pclass').toPandas()\n",
    "\n"
   ]
  },
  {
   "cell_type": "markdown",
   "id": "d54c38cc",
   "metadata": {},
   "source": [
    "#### How many women survived from each class?"
   ]
  },
  {
   "cell_type": "code",
   "execution_count": 61,
   "id": "73c1013b",
   "metadata": {},
   "outputs": [
    {
     "data": {
      "text/html": [
       "<div>\n",
       "<style scoped>\n",
       "    .dataframe tbody tr th:only-of-type {\n",
       "        vertical-align: middle;\n",
       "    }\n",
       "\n",
       "    .dataframe tbody tr th {\n",
       "        vertical-align: top;\n",
       "    }\n",
       "\n",
       "    .dataframe thead th {\n",
       "        text-align: right;\n",
       "    }\n",
       "</style>\n",
       "<table border=\"1\" class=\"dataframe\">\n",
       "  <thead>\n",
       "    <tr style=\"text-align: right;\">\n",
       "      <th></th>\n",
       "      <th>pclass</th>\n",
       "      <th>sex</th>\n",
       "      <th>survived</th>\n",
       "      <th>count</th>\n",
       "      <th>ratio</th>\n",
       "    </tr>\n",
       "  </thead>\n",
       "  <tbody>\n",
       "    <tr>\n",
       "      <th>0</th>\n",
       "      <td>1</td>\n",
       "      <td>0</td>\n",
       "      <td>1</td>\n",
       "      <td>126</td>\n",
       "      <td>0.120921</td>\n",
       "    </tr>\n",
       "    <tr>\n",
       "      <th>1</th>\n",
       "      <td>2</td>\n",
       "      <td>0</td>\n",
       "      <td>1</td>\n",
       "      <td>92</td>\n",
       "      <td>0.088292</td>\n",
       "    </tr>\n",
       "    <tr>\n",
       "      <th>2</th>\n",
       "      <td>3</td>\n",
       "      <td>0</td>\n",
       "      <td>1</td>\n",
       "      <td>72</td>\n",
       "      <td>0.069098</td>\n",
       "    </tr>\n",
       "  </tbody>\n",
       "</table>\n",
       "</div>"
      ],
      "text/plain": [
       "   pclass  sex  survived  count     ratio\n",
       "0       1    0         1    126  0.120921\n",
       "1       2    0         1     92  0.088292\n",
       "2       3    0         1     72  0.069098"
      ]
     },
     "execution_count": 61,
     "metadata": {},
     "output_type": "execute_result"
    }
   ],
   "source": [
    "survival_female = data1.select('survived','sex','pclass').groupBy('pclass','sex', 'survived').count()\\\n",
    ".withColumn('ratio', col('count')/length)\\\n",
    ".where('sex = 0')\\\n",
    ".where('survived =1')\\\n",
    ".orderBy('pclass')\n",
    "survival_female.toPandas()"
   ]
  },
  {
   "cell_type": "markdown",
   "id": "3d4d0fbe",
   "metadata": {},
   "source": []
  },
  {
   "cell_type": "markdown",
   "id": "4a6d8692",
   "metadata": {},
   "source": [
    "#### How many men survived from each class?"
   ]
  },
  {
   "cell_type": "code",
   "execution_count": 62,
   "id": "a1bef888",
   "metadata": {},
   "outputs": [
    {
     "data": {
      "text/html": [
       "<div>\n",
       "<style scoped>\n",
       "    .dataframe tbody tr th:only-of-type {\n",
       "        vertical-align: middle;\n",
       "    }\n",
       "\n",
       "    .dataframe tbody tr th {\n",
       "        vertical-align: top;\n",
       "    }\n",
       "\n",
       "    .dataframe thead th {\n",
       "        text-align: right;\n",
       "    }\n",
       "</style>\n",
       "<table border=\"1\" class=\"dataframe\">\n",
       "  <thead>\n",
       "    <tr style=\"text-align: right;\">\n",
       "      <th></th>\n",
       "      <th>pclass</th>\n",
       "      <th>sex</th>\n",
       "      <th>survived</th>\n",
       "      <th>count</th>\n",
       "      <th>ratio</th>\n",
       "    </tr>\n",
       "  </thead>\n",
       "  <tbody>\n",
       "    <tr>\n",
       "      <th>0</th>\n",
       "      <td>1</td>\n",
       "      <td>1</td>\n",
       "      <td>1</td>\n",
       "      <td>53</td>\n",
       "      <td>0.050864</td>\n",
       "    </tr>\n",
       "    <tr>\n",
       "      <th>1</th>\n",
       "      <td>2</td>\n",
       "      <td>1</td>\n",
       "      <td>1</td>\n",
       "      <td>23</td>\n",
       "      <td>0.022073</td>\n",
       "    </tr>\n",
       "    <tr>\n",
       "      <th>2</th>\n",
       "      <td>3</td>\n",
       "      <td>1</td>\n",
       "      <td>1</td>\n",
       "      <td>58</td>\n",
       "      <td>0.055662</td>\n",
       "    </tr>\n",
       "  </tbody>\n",
       "</table>\n",
       "</div>"
      ],
      "text/plain": [
       "   pclass  sex  survived  count     ratio\n",
       "0       1    1         1     53  0.050864\n",
       "1       2    1         1     23  0.022073\n",
       "2       3    1         1     58  0.055662"
      ]
     },
     "execution_count": 62,
     "metadata": {},
     "output_type": "execute_result"
    }
   ],
   "source": [
    "survival_male = data1.select('survived','sex','pclass').groupBy('pclass','sex', 'survived').count() \\\n",
    ".withColumn('ratio', col('count')/length)\\\n",
    ".where('sex = 1')\\\n",
    ".where('survived =1')\\\n",
    ".orderBy('pclass')\n",
    "survival_male.toPandas()"
   ]
  },
  {
   "cell_type": "markdown",
   "id": "9b5dace8",
   "metadata": {},
   "source": []
  },
  {
   "cell_type": "code",
   "execution_count": null,
   "id": "74eb0d95",
   "metadata": {},
   "outputs": [],
   "source": []
  }
 ],
 "metadata": {
  "kernelspec": {
   "display_name": "Python 3 (ipykernel)",
   "language": "python",
   "name": "python3"
  },
  "language_info": {
   "codemirror_mode": {
    "name": "ipython",
    "version": 3
   },
   "file_extension": ".py",
   "mimetype": "text/x-python",
   "name": "python",
   "nbconvert_exporter": "python",
   "pygments_lexer": "ipython3",
   "version": "3.9.2"
  }
 },
 "nbformat": 4,
 "nbformat_minor": 5
}
